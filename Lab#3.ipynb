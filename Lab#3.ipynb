{
 "cells": [
  {
   "cell_type": "code",
   "execution_count": null,
   "id": "initial_id",
   "metadata": {
    "collapsed": true
   },
   "outputs": [],
   "source": [
    "#Lab# 3\n",
    "import pandas as pd\n",
    "import numpy as np\n",
    "\n",
    "#1. Write a Pandas program to join the two given dataframes along rows and assign all data.\n",
    "#Test Data:\n",
    "#student_data1:\n",
    "#  student_id              name  marks\n",
    "#0         S1  Danniella Fenton    200\n",
    "#1         S2      Ryder Storey    210\n",
    "#2         S3      Bryce Jensen    190\n",
    "#3         S4         Ed Bernal    222\n",
    "#4         S5       Kwame Morin    199\n"
   ]
  }
 ],
 "metadata": {
  "kernelspec": {
   "display_name": "Python 3",
   "language": "python",
   "name": "python3"
  },
  "language_info": {
   "codemirror_mode": {
    "name": "ipython",
    "version": 2
   },
   "file_extension": ".py",
   "mimetype": "text/x-python",
   "name": "python",
   "nbconvert_exporter": "python",
   "pygments_lexer": "ipython2",
   "version": "2.7.6"
  }
 },
 "nbformat": 4,
 "nbformat_minor": 5
}
