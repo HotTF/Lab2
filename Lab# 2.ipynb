{
 "cells": [
  {
   "cell_type": "code",
   "execution_count": 1,
   "id": "initial_id",
   "metadata": {
    "collapsed": true,
    "ExecuteTime": {
     "end_time": "2024-02-29T23:46:46.960881300Z",
     "start_time": "2024-02-29T23:46:46.359705800Z"
    }
   },
   "outputs": [],
   "source": [
    "#Lab 2 works\n",
    "import pandas as pd\n",
    "#1.1. Write a Pandas program to create and display a one-dimensional array-like object containing an array of data using Pandas module."
   ]
  }
 ],
 "metadata": {
  "kernelspec": {
   "display_name": "Python 3",
   "language": "python",
   "name": "python3"
  },
  "language_info": {
   "codemirror_mode": {
    "name": "ipython",
    "version": 2
   },
   "file_extension": ".py",
   "mimetype": "text/x-python",
   "name": "python",
   "nbconvert_exporter": "python",
   "pygments_lexer": "ipython2",
   "version": "2.7.6"
  }
 },
 "nbformat": 4,
 "nbformat_minor": 5
}
